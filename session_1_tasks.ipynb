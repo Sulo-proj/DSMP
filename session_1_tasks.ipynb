{
  "nbformat": 4,
  "nbformat_minor": 0,
  "metadata": {
    "colab": {
      "provenance": []
    },
    "kernelspec": {
      "name": "python3",
      "display_name": "Python 3"
    },
    "language_info": {
      "name": "python"
    }
  },
  "cells": [
    {
      "cell_type": "markdown",
      "source": [
        "# Task : Session 1\n",
        "Solve these questions own your own and try to test yourself what you have learned in the session.\n",
        "\n",
        "Happy Learning!"
      ],
      "metadata": {
        "id": "A05OG15VqOPF"
      }
    },
    {
      "cell_type": "markdown",
      "source": [
        "### Q1 :- Print the given strings as per stated format.\n",
        "\n",
        "**Given strings**:\n",
        "```\n",
        "\"Data\" \"Science\" \"Mentorship\" \"Program\"\n",
        "\"By\" \"CampusX\"\n",
        "```\n",
        "**Output**:\n",
        "```\n",
        "Data-Science-Mentorship-Program-started-By-CampusX\n",
        "```\n",
        "\n",
        "Concept- [Seperator and End]"
      ],
      "metadata": {
        "id": "2doIXf8bqe9_"
      }
    },
    {
      "cell_type": "code",
      "source": [
        "print(\"Data\", \"Science\", \"Mentorship\", \"Program\",  sep='-', end='-started-')\n",
        "print(\"By\", \"CampusX\", sep='-')"
      ],
      "metadata": {
        "id": "-em6d3KErDtp"
      },
      "execution_count": null,
      "outputs": []
    },
    {
      "cell_type": "markdown",
      "source": [
        "### Q2:- Write a program that will convert celsius value to fahrenheit."
      ],
      "metadata": {
        "id": "1KUpN7ZTrC3_"
      }
    },
    {
      "cell_type": "code",
      "source": [
        "# F = (9/5 × °C) + 32\n",
        "celc = input('Enter the temperature in Celcius')\n",
        "faren = (9/5 * int(celc)) + 32\n",
        "print(faren)"
      ],
      "metadata": {
        "id": "yxKYhYQiqWfj",
        "colab": {
          "base_uri": "https://localhost:8080/"
        },
        "outputId": "f0a4ee3f-99f8-4cfc-f6b1-5b7232767a0c"
      },
      "execution_count": null,
      "outputs": [
        {
          "output_type": "stream",
          "name": "stdout",
          "text": [
            "Enter the temperature in Celcius38\n",
            "100.4\n"
          ]
        }
      ]
    },
    {
      "cell_type": "markdown",
      "source": [
        "### Q3:- Take 2 numbers as input from the user.Write a program to swap the numbers without using any special python syntax."
      ],
      "metadata": {
        "id": "RLrOBBJurLB2"
      }
    },
    {
      "cell_type": "code",
      "source": [
        "# take numbers in a and b\n",
        "a = input('Enter the first number')\n",
        "b = input('Enter the second number')\n",
        "# create a temp variable\n",
        "temp = None\n",
        "# store a in temp, then b in a. then temp in b\n",
        "temp = a\n",
        "a = b\n",
        "b = temp\n",
        "# print the swapped no\n",
        "print('Swapped first no is ',a)\n",
        "print('Swapped second no is ',b)"
      ],
      "metadata": {
        "id": "yPn7if0TrJ4F",
        "colab": {
          "base_uri": "https://localhost:8080/"
        },
        "outputId": "efe92d3d-126d-4991-e576-0fd438f2e2b3"
      },
      "execution_count": null,
      "outputs": [
        {
          "output_type": "stream",
          "name": "stdout",
          "text": [
            "Enter the first number5\n",
            "Enter the second number7\n",
            "Swapped first no is  7\n",
            "Swapped second no is  5\n"
          ]
        }
      ]
    },
    {
      "cell_type": "markdown",
      "source": [
        "### Q4:- Write a program to find the euclidean distance between two coordinates.Take both the coordinates from the user as input."
      ],
      "metadata": {
        "id": "waLCP1bjr7ML"
      }
    },
    {
      "cell_type": "code",
      "source": [
        "#  D = (( x 2 − x 1 ) 2 + ( y 2 − y 1 ) 2) **0.5   - sqrt\n",
        "# get both coordinates in variables\n",
        "# calculate using formula\n",
        "# print result\n",
        "x1 = input('Enter the first x coordinate')\n",
        "y1 = input('Enter the first y coordinate')\n",
        "x2 = input('Enter the second x coordinate')\n",
        "y2 = input('Enter the second y coordinate')\n",
        "\n",
        "d = ((int(x2)-int(x1))**2 + (int(y2)-int(y1))**2)**0.5\n",
        "print(d)\n"
      ],
      "metadata": {
        "id": "Pl1Sv-xnrxnH",
        "colab": {
          "base_uri": "https://localhost:8080/"
        },
        "outputId": "87968a68-ada2-4be0-f580-350c0a4dfe89"
      },
      "execution_count": null,
      "outputs": [
        {
          "output_type": "stream",
          "name": "stdout",
          "text": [
            "Enter the first x coordinate1\n",
            "Enter the first y coordinate5\n",
            "Enter the second x coordinate2\n",
            "Enter the second y coordinate3\n",
            "2.23606797749979\n"
          ]
        }
      ]
    },
    {
      "cell_type": "markdown",
      "source": [
        "### Q5:- Write a program to find the simple interest when the value of principle,rate of interest and time period is provided by the user.\n"
      ],
      "metadata": {
        "id": "VLrhg-FRsHjR"
      }
    },
    {
      "cell_type": "code",
      "source": [
        "# i = (p * n * r ) / 100\n",
        "# get p, n in years, r as input\n",
        "# calculate using formula\n",
        "# print result\n",
        "p = input('Enter the principle amount')\n",
        "n = input('Enter the number of years')\n",
        "r = input('Enter the rate of interest')\n",
        "\n",
        "i = (int(p) * int(n) * int(r))/100\n",
        "print(i)"
      ],
      "metadata": {
        "id": "s40DlReZsTmY",
        "colab": {
          "base_uri": "https://localhost:8080/"
        },
        "outputId": "7cb90f09-781b-4696-d2ad-54b3907ba1d9"
      },
      "execution_count": null,
      "outputs": [
        {
          "output_type": "stream",
          "name": "stdout",
          "text": [
            "Enter the principle amount10000\n",
            "Enter the number of years5\n",
            "Enter the rate of interest12\n",
            "6000.0\n"
          ]
        }
      ]
    },
    {
      "cell_type": "markdown",
      "source": [
        "### Q6:- Write a program that will tell the number of dogs and chicken are there when the user will provide the value of total heads and legs.\n",
        "\n",
        "For example:\n",
        "Input:\n",
        "heads -> 4\n",
        "legs -> 12\n",
        "<br>\n",
        "Output:\n",
        "dogs -> 2\n",
        "chicken -> 2\n",
        "\n",
        "\n",
        "\n"
      ],
      "metadata": {
        "id": "LMy0BTUktYKa"
      }
    },
    {
      "cell_type": "code",
      "source": [
        "heads = int(input('Enter the number of heads'))\n",
        "legs = int(input('Enter the number of legs'))\n",
        "\n",
        "dogs = legs//4\n",
        "chicken = heads-dogs\n",
        "\n",
        "print('Dogs are ', dogs)\n",
        "print('Chicken are ', chicken)\n"
      ],
      "metadata": {
        "id": "XSBvJoA4tXaG",
        "colab": {
          "base_uri": "https://localhost:8080/"
        },
        "outputId": "91871f35-6ceb-4bcc-937c-dd218cd7e523"
      },
      "execution_count": null,
      "outputs": [
        {
          "output_type": "stream",
          "name": "stdout",
          "text": [
            "Enter the number of heads5\n",
            "Enter the number of legs18\n",
            "Dogs are  4\n",
            "Chicken are  1\n"
          ]
        }
      ]
    },
    {
      "cell_type": "markdown",
      "source": [
        "### Q7:- Write a program to find the sum of squares of first n natural numbers where n will be provided by the user."
      ],
      "metadata": {
        "id": "gJ7C5kZYt4BP"
      }
    },
    {
      "cell_type": "code",
      "source": [
        "n = int(input('Enter the number'))\n",
        "sqr = 0\n",
        "for i in range(1, n+1):\n",
        "  sqr += i**2\n",
        "print('Sum of squares till ', n, ' is ',sqr)"
      ],
      "metadata": {
        "id": "_tHsmEHzt2nX",
        "colab": {
          "base_uri": "https://localhost:8080/"
        },
        "outputId": "2106b357-fcd2-44ff-c367-a43077dab172"
      },
      "execution_count": null,
      "outputs": [
        {
          "output_type": "stream",
          "name": "stdout",
          "text": [
            "Enter the number5\n",
            "Sum of squares till  5  is  55\n"
          ]
        }
      ]
    },
    {
      "cell_type": "markdown",
      "source": [
        "### Q8:- Given the first 2 terms of an Arithmetic Series.Find the Nth term of the series. Assume all inputs are provided by the user."
      ],
      "metadata": {
        "id": "FHrMM7g-yG1h"
      }
    },
    {
      "cell_type": "code",
      "source": [
        "# a + (n-1)*d\n",
        "a = int(input ('Enter the first term '))\n",
        "b = int(input ('Enter the second term '))\n",
        "n = int(input ('Enter the no of terms to calculate '))\n",
        "d = b-a\n",
        "\n",
        "result = a + (n-1)*d\n",
        "print(result)"
      ],
      "metadata": {
        "id": "go4_kmZmyVSx",
        "colab": {
          "base_uri": "https://localhost:8080/"
        },
        "outputId": "be9c3bf3-8b5d-4585-ed72-1350a25dc814"
      },
      "execution_count": null,
      "outputs": [
        {
          "output_type": "stream",
          "name": "stdout",
          "text": [
            "Enter the first term 3\n",
            "Enter the second term 6\n",
            "Enter the no of terms to calculate 5\n",
            "15\n"
          ]
        }
      ]
    },
    {
      "cell_type": "markdown",
      "source": [
        "### Q9:- Given 2 fractions, find the sum of those 2 fractions.Take the numerator and denominator values of the fractions from the user."
      ],
      "metadata": {
        "id": "QgyRX_es1oum"
      }
    },
    {
      "cell_type": "code",
      "source": [
        "num1 = int(input('Enter the numerator for first fraction '))\n",
        "den1 = int(input('Enter the denominator for first fraction '))\n",
        "num2 = int(input('Enter the numerator for second fraction '))\n",
        "den2 = int(input('Enter the denominator for second fraction '))\n",
        "\n",
        "num = ((num1*den2) + (num2*den1))\n",
        "den= (den1*den2)\n",
        "print('{}/{}'.format(str(num),str(den)))"
      ],
      "metadata": {
        "id": "X05xqFS1yW16",
        "colab": {
          "base_uri": "https://localhost:8080/"
        },
        "outputId": "67aefddf-dd19-40ea-c02b-ef60af46a4e6"
      },
      "execution_count": null,
      "outputs": [
        {
          "output_type": "stream",
          "name": "stdout",
          "text": [
            "Enter the numerator for first fraction 1\n",
            "Enter the denominator for first fraction 2\n",
            "Enter the numerator for second fraction 1\n",
            "Enter the denominator for second fraction 4\n",
            "6/8\n"
          ]
        }
      ]
    },
    {
      "cell_type": "markdown",
      "source": [
        "### Q10:- Given the height, width and breadth of a milk tank, you have to find out how many glasses of milk can be obtained? Assume all the inputs are provided by the user.\n",
        "\n",
        "\n",
        "\n",
        "Input:<br>\n",
        "Dimensions of the milk tank<br>\n",
        "H = 20cm, L = 20cm, B = 20cm\n",
        "<br><br>\n",
        "Dimensions of the glass<br>\n",
        "h = 3cm, r = 1cm"
      ],
      "metadata": {
        "id": "eaql38ln13u7"
      }
    },
    {
      "cell_type": "code",
      "source": [
        "h_tank = int(input('Enter the height of Tank '))\n",
        "l_tank = int(input('Enter the length of Tank '))\n",
        "b_tank = int(input('Enter the breadth of Tank '))\n",
        "\n",
        "h_glass = int(input ('Enter the height of glass '))\n",
        "r_glass = int(input ('Enter the radius of glass '))\n",
        "\n",
        "vol_tank = h_tank*l_tank*b_tank\n",
        "vol_glass = 3.14*(r_glass)**2\n",
        "\n",
        "print('Total no of glasses = ', vol_tank//vol_glass)"
      ],
      "metadata": {
        "id": "FePZqno74eWv",
        "colab": {
          "base_uri": "https://localhost:8080/"
        },
        "outputId": "79e64297-b63a-48e5-ce7c-38279c229c5e"
      },
      "execution_count": null,
      "outputs": [
        {
          "output_type": "stream",
          "name": "stdout",
          "text": [
            "Enter the height of Tank 20\n",
            "Enter the length of Tank 20\n",
            "Enter the breadth of Tank 20\n",
            "Enter the height of glass 3\n",
            "Enter the radius of glass 1\n",
            "Total no of glasses =  2547.0\n"
          ]
        }
      ]
    }
  ]
}